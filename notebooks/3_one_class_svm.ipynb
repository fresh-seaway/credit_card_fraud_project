{
 "cells": [
  {
   "cell_type": "markdown",
   "metadata": {},
   "source": [
    "# Identifying Fraudulent Credit Card Transactions Using a One-Class Support Vector Machine (SVM) Model\n",
    "\n",
    "**Resources** \n",
    "- [Geeks for Geeks - Understanding One-Class Support Vector Machines](https://www.geeksforgeeks.org/understanding-one-class-support-vector-machines/)\n",
    "- [Scikit-learn - OneClassSVM Documentation](https://scikit-learn.org/stable/modules/generated/sklearn.svm.OneClassSVM.html)"
   ]
  },
  {
   "cell_type": "code",
   "execution_count": 1,
   "metadata": {},
   "outputs": [
    {
     "data": {
      "text/plain": [
       "1"
      ]
     },
     "execution_count": 1,
     "metadata": {},
     "output_type": "execute_result"
    }
   ],
   "source": [
    "## Logger configuration\n",
    "from loguru import logger\n",
    "\n",
    "logger.remove()\n",
    "\n",
    "logger.add(\"logs/ocsvm.log\",\n",
    "           level = \"DEBUG\",\n",
    "           format = \"{time:HH:mm:ss} | {level} | {message}\")"
   ]
  },
  {
   "cell_type": "markdown",
   "metadata": {},
   "source": [
    "## Load and Pre-Process Dataset"
   ]
  },
  {
   "cell_type": "code",
   "execution_count": 2,
   "metadata": {},
   "outputs": [],
   "source": [
    "import pandas as pd \n",
    "\n",
    "df = pd.read_csv(\"../creditcard.csv\")\n",
    "\n",
    "target_feature = \"Class\"\n",
    "input_features = list(df.columns)\n",
    "input_features.remove(target_feature)\n",
    "\n",
    "logger.info(f\"Dataset loaded\")\n",
    "logger.debug(f\"Dataset Shape: {df.shape}\")\n",
    "logger.debug(f\"Percentage Fraudulent Transactions: {df[\"Class\"].sum() / df.shape[0]}\")\n",
    "logger.debug(f\"Target Variable: {target_feature}\")\n",
    "logger.debug(f\"Input Variables: {input_features}\")"
   ]
  },
  {
   "cell_type": "markdown",
   "metadata": {},
   "source": [
    "#### Downsampling\n",
    "\n",
    "To accomodate for this dataset being quite large, we downsample the dataset for the purposes of testing the code.\n",
    "\n",
    "- The sample is 30% of the original data set \n",
    "- The sample contains the sample class distribution as the original data set\n",
    "\n",
    "Considerations\n",
    "- By downsampling, we may be losing some of the larger patterns in the original data set"
   ]
  },
  {
   "cell_type": "code",
   "execution_count": 33,
   "metadata": {},
   "outputs": [],
   "source": [
    "from sklearn.model_selection import train_test_split\n",
    "\n",
    "df_sampled, _ = train_test_split(df, \n",
    "                                test_size = 0.7, \n",
    "                                stratify = df['Class'], \n",
    "                                random_state = 42)\n",
    "\n",
    "logger.info(\"Dataset Downsampled to 30%\")\n",
    "logger.debug(f\"Sampled Dataset Shape: {df_sampled.shape }\")\n",
    "logger.debug(f\"Sample Dataset Percentage Fraudulent Transactions: {df_sampled[\"Class\"].sum() / df_sampled.shape[0]}\")"
   ]
  },
  {
   "cell_type": "markdown",
   "metadata": {},
   "source": [
    "## Train / Test Split \n",
    "\n",
    "One-class SVMs are trained only on the \"normal\" class. This requires a little extra work to separate out a training class compromised of only legitimate transactions.\n",
    "\n",
    "- [Scikit Learn - train_test_split documentation](https://scikit-learn.org/dev/modules/generated/sklearn.model_selection.train_test_split.html)"
   ]
  },
  {
   "cell_type": "code",
   "execution_count": 34,
   "metadata": {},
   "outputs": [],
   "source": [
    "def ocsvm_train_test_split(X, y, normal_class):\n",
    "   \n",
    "    \"\"\"\n",
    "    Train test split function specifically for One Class SVMs \n",
    "    Training data separated by this function contains only the \"normal\" class\n",
    "    \n",
    "    Returns: \n",
    "    - X_test\n",
    "    - X_train \n",
    "    - y_test\n",
    "    - y_train\n",
    "    \"\"\"\n",
    "\n",
    "    # Split data into training and testing sets with only the normal class for training\n",
    "    # Include some normal transactions in the test set as well\n",
    "    X_train = X[y == 0]\n",
    "    X_test, y_test = X[y == 1].copy(), y[y == 1].copy()\n",
    "\n",
    "    X_train, X_test_normal, y_train, y_test_normal = train_test_split(X_train, \n",
    "                                                                      y[y == normal_class], \n",
    "                                                                      test_size = 0.2, \n",
    "                                                                      random_state = 42)\n",
    "\n",
    "    X_test = pd.concat([X_test, X_test_normal]) \n",
    "    y_test = pd.concat([y_test, y_test_normal])\n",
    "\n",
    "    return X_train, X_test, y_train, y_test\n",
    "\n",
    "\n",
    "X = df_sampled.drop(columns = [target_feature])\n",
    "y = df_sampled[target_feature]\n",
    "\n",
    "X_train, X_test, y_train, y_test = ocsvm_train_test_split(X, y, 0)"
   ]
  },
  {
   "cell_type": "markdown",
   "metadata": {},
   "source": [
    "## Fit Model and Predict Class"
   ]
  },
  {
   "cell_type": "code",
   "execution_count": 35,
   "metadata": {},
   "outputs": [],
   "source": [
    "from sklearn.svm import OneClassSVM\n",
    "from sklearn.preprocessing import StandardScaler\n",
    "from sklearn.metrics import confusion_matrix, precision_score, recall_score, f1_score\n",
    "from time import time\n",
    "\n",
    "\n",
    "def train_oneclass_svm(X_train, X_test, params):\n",
    "    \n",
    "    # Apply data scaling \n",
    "    scaler = StandardScaler()\n",
    "    X_train_scaled = scaler.fit_transform(X_train)\n",
    "    X_test_scaled = scaler.transform(X_test)\n",
    "\n",
    "    # Train Model\n",
    "    start_time = time()                            # Record start time\n",
    "    oc_svm = OneClassSVM(**params)                 # Instantiate model with input parameters\n",
    "    oc_svm.fit(X_train_scaled)                     # Train model\n",
    "    predictions = oc_svm.predict(X_test_scaled)    # Predict outliers in the test set\n",
    "    predictions = (predictions == -1).astype(int)  # Convert predictions to binary: 1 for inliers (normal), -1 for outliers (fraud)\n",
    "    end_time = time()                              # Record end time \n",
    "    \n",
    "    ## Record model training time and parameters used \n",
    "    total_training_time_seconds = end_time - start_time\n",
    "    minutes, seconds = divmod(total_training_time_seconds, 60)\n",
    "    formatted_time = f\"{int(minutes):02}:{int(seconds):02}\"\n",
    "    logger.info(f\"Model Trained | Train Time (Minutes): {formatted_time} | Parameters | {params} |\")\n",
    "    \n",
    "    \n",
    "    # Evaluate Model Performance\n",
    "    \n",
    "    ## Confusion Matrix  \n",
    "    ## Calculate and log the true positive rate, false positive rate, true negative rate, and false negative rate\n",
    "    conf_matrix = confusion_matrix(y_test, predictions)\n",
    "\n",
    "    TN, FP, FN, TP = conf_matrix.ravel()\n",
    "\n",
    "    true_positive_rate = (TP / (TP + FN)) * 100\n",
    "    false_positive_rate = (FP / (FP + TN)) * 100\n",
    "    true_negative_rate = (TN / (TN + FP)) * 100\n",
    "    false_negative_rate = (FN / (FN + TP)) * 100\n",
    "\n",
    "    logger.debug(f\"Model Evaluation (1/2) | TP: {true_positive_rate:.2f}% | FN: {false_negative_rate:.2f}% | TN: {true_negative_rate:.2f}% | FP: {false_positive_rate:.2f}% |\")\n",
    "    \n",
    "    ## Evaluation Metrics\n",
    "    precision = precision_score(y_test, predictions)\n",
    "    recall = recall_score(y_test, predictions)\n",
    "    f1 = f1_score(y_test, predictions)\n",
    "\n",
    "    logger.debug(f\"Model Evaluation (2/2) | Precision: {precision:.3f} | Recall: {recall:.3f} | F1: {f1:.3f} |\")\n",
    "    \n",
    "    return f1"
   ]
  },
  {
   "cell_type": "markdown",
   "metadata": {},
   "source": [
    "### Baseline Model Performance"
   ]
  },
  {
   "cell_type": "code",
   "execution_count": 36,
   "metadata": {},
   "outputs": [
    {
     "data": {
      "text/plain": [
       "0.028248041017703396"
      ]
     },
     "execution_count": 36,
     "metadata": {},
     "output_type": "execute_result"
    }
   ],
   "source": [
    "params = {\"kernel\": 'rbf',\n",
    "          \"nu\": 0.5, \n",
    "          \"gamma\": 0.5}\n",
    "\n",
    "f1_test = train_oneclass_svm(X_train, X_test, params)\n",
    "\n",
    "f1_test"
   ]
  },
  {
   "cell_type": "markdown",
   "metadata": {},
   "source": [
    "### Grid Search "
   ]
  },
  {
   "cell_type": "code",
   "execution_count": 31,
   "metadata": {},
   "outputs": [],
   "source": [
    "import itertools\n",
    "\n",
    "def grid_search(param_grid):\n",
    "    \n",
    "    # Extract the lists from the dictionary and their keys\n",
    "    keys, values = zip(*param_grid.items())\n",
    "    \n",
    "    # Generate all combinations\n",
    "    iter_param = [dict(zip(keys, combo)) for combo in itertools.product(*values)]\n",
    "    \n",
    "    \n",
    "    logger.info(f\"Grid Search Initiated | Combinations to attempt: {len(iter_param)}\")\n",
    "    \n",
    "    best_f1 = 0\n",
    "    best_param = None\n",
    "    \n",
    "    for p in iter_param:\n",
    "        \n",
    "        f1 = train_oneclass_svm(X_train, X_test, p)\n",
    "        \n",
    "        if f1 > best_f1:\n",
    "            best_f1 = f1\n",
    "            best_param = p\n",
    "    \n",
    "    logger.info(f\"Grid Search Results | Best F1 Score: {best_f1:.3f} | Parameters: {best_param} |\")\n",
    "    \n",
    "    return best_param"
   ]
  },
  {
   "cell_type": "code",
   "execution_count": 37,
   "metadata": {},
   "outputs": [],
   "source": [
    "# Hyperparameter grid\n",
    "param_grid = {\n",
    "    'kernel': ['linear', 'rbf'],#, 'poly'],\n",
    "    'nu': [0.1, 0.2, 0.5],\n",
    "    'gamma': ['scale', 'auto'],\n",
    "#    'degree': [2, 3, 4]  # Only relevant for poly kernel\n",
    "}\n",
    "\n",
    "best_param = grid_search(param_grid)"
   ]
  },
  {
   "cell_type": "markdown",
   "metadata": {},
   "source": [
    "**10% Sample Size**\n",
    "\n",
    "17:00:08 | INFO | Grid Search Results | Best F1 Score: 0.135 | Parameters: {'kernel': 'rbf', 'nu': 0.1, 'gamma': 'scale', 'degree': 2} |\n",
    "\n",
    "**30% Sample Size**\n",
    "\n",
    "18:36:21 | INFO | Grid Search Results | Best F1 Score: 0.138 | Parameters: {'kernel': 'rbf', 'nu': 0.1, 'gamma': 'scale'} |\n",
    "\n",
    "18:15:37 | INFO | Model Trained | Train Time (Minutes): 01:38 | Parameters | {'kernel': 'rbf', 'nu': 0.1, 'gamma': 'scale'} |\n",
    "\n",
    "18:15:37 | INFO | Model Evaluation (1/2) | TP: 92.57% | FN: 7.43% | TN: 90.01% | FP: 9.99% |\n",
    "\n",
    "18:15:38 | INFO | Model Evaluation (2/2) | Precision: 0.074 | Recall: 0.926 | F1: 0.138 |"
   ]
  },
  {
   "cell_type": "markdown",
   "metadata": {},
   "source": []
  },
  {
   "cell_type": "markdown",
   "metadata": {},
   "source": []
  },
  {
   "cell_type": "markdown",
   "metadata": {},
   "source": [
    "- Run DBScan and use SVM on discrete clusters? \n",
    "- Clean up passing of variables between functions.... eg, X_test and X_train into gridsearch"
   ]
  },
  {
   "cell_type": "markdown",
   "metadata": {},
   "source": [
    "## Archive...."
   ]
  },
  {
   "cell_type": "code",
   "execution_count": 23,
   "metadata": {},
   "outputs": [
    {
     "data": {
      "image/png": "[encoded data removed]",
      "text/plain": [
       "<Figure size 640x480 with 2 Axes>"
      ]
     },
     "metadata": {},
     "output_type": "display_data"
    }
   ],
   "source": [
    "# Calculate confusion matrix\n",
    "from sklearn.metrics import confusion_matrix\n",
    "import seaborn as sns\n",
    "import matplotlib.pyplot as plt\n",
    "\n",
    "\n",
    "def plot_confusion_matrix(y_val, y_pred):\n",
    "    \n",
    "    conf_matrix = confusion_matrix(y_val, y_pred)\n",
    "    \n",
    "    sns.heatmap(conf_matrix, annot=True, fmt='d', cmap='Blues')\n",
    "    plt.xlabel('Predicted')\n",
    "    plt.ylabel('Actual')\n",
    "    plt.title('Confusion Matrix')\n",
    "    plt.show()\n",
    "    \n",
    "plot_confusion_matrix(y_test, predictions)"
   ]
  },
  {
   "cell_type": "markdown",
   "metadata": {},
   "source": []
  },
  {
   "cell_type": "code",
   "execution_count": null,
   "metadata": {},
   "outputs": [],
   "source": [
    "from sklearn.model_selection import GridSearchCV, StratifiedKFold\n",
    "from sklearn.svm import OneClassSVM\n",
    "from sklearn.metrics import roc_auc_score\n",
    "import time\n",
    "\n",
    "# Hyperparameter grid\n",
    "param_grid = {\n",
    "    'kernel': ['linear', 'rbf', 'poly'],\n",
    "    'nu': [0.1, 0.2, 0.5],\n",
    "    'gamma': ['scale', 'auto'],\n",
    "    'degree': [2, 3, 4]  # Only relevant for poly kernel\n",
    "}\n",
    "\n",
    "# Statified K Fold ensures each fold for the grid search contains the same proportion of classes \n",
    "stratified_kfold = StratifiedKFold(n_splits = 5, shuffle = True)\n",
    "\n",
    "# Cross-Validation and Grid Search\n",
    "grid_search = GridSearchCV(OneClassSVM(), \n",
    "                           param_grid, \n",
    "                           cv = stratified_kfold,\n",
    "                           scoring = \"roc_auc\", \n",
    "                           verbose = 2, \n",
    "                           n_jobs = -1)\n",
    "\n",
    "start_time = time.time()\n",
    "grid_search.fit(X_train_scaled, y_train)\n",
    "end_time = time.time()\n",
    "\n",
    "total_training_time = end_time - start_time "
   ]
  }
 ],
 "metadata": {
  "kernelspec": {
   "display_name": "py-3.12",
   "language": "python",
   "name": "python3"
  },
  "language_info": {
   "codemirror_mode": {
    "name": "ipython",
    "version": 3
   },
   "file_extension": ".py",
   "mimetype": "text/x-python",
   "name": "python",
   "nbconvert_exporter": "python",
   "pygments_lexer": "ipython3",
   "version": "3.12.2"
  }
 },
 "nbformat": 4,
 "nbformat_minor": 2
}
